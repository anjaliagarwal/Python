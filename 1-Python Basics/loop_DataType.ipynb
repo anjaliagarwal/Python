{
 "cells": [
  {
   "cell_type": "code",
   "execution_count": 1,
   "id": "89ada75c",
   "metadata": {},
   "outputs": [],
   "source": [
    "a = 3\n"
   ]
  },
  {
   "cell_type": "code",
   "execution_count": 2,
   "id": "bc700b54",
   "metadata": {},
   "outputs": [
    {
     "name": "stdout",
     "output_type": "stream",
     "text": [
      "3\n"
     ]
    }
   ],
   "source": [
    "print(a)"
   ]
  },
  {
   "cell_type": "code",
   "execution_count": 3,
   "id": "c326e3e5",
   "metadata": {},
   "outputs": [
    {
     "data": {
      "text/plain": [
       "4380992064"
      ]
     },
     "execution_count": 3,
     "metadata": {},
     "output_type": "execute_result"
    }
   ],
   "source": [
    "id(a)"
   ]
  },
  {
   "cell_type": "code",
   "execution_count": 4,
   "id": "735262c9",
   "metadata": {},
   "outputs": [
    {
     "data": {
      "text/plain": [
       "'0x10520a240'"
      ]
     },
     "execution_count": 4,
     "metadata": {},
     "output_type": "execute_result"
    }
   ],
   "source": [
    "hex(id(a))"
   ]
  },
  {
   "cell_type": "code",
   "execution_count": 5,
   "id": "d285a956",
   "metadata": {},
   "outputs": [
    {
     "data": {
      "text/plain": [
       "'0x10520a260'"
      ]
     },
     "execution_count": 5,
     "metadata": {},
     "output_type": "execute_result"
    }
   ],
   "source": [
    "a = a + 1\n",
    "hex(id(a))"
   ]
  },
  {
   "cell_type": "code",
   "execution_count": 10,
   "id": "2c4cb3f1",
   "metadata": {},
   "outputs": [
    {
     "data": {
      "text/plain": [
       "'0x10cb1a580'"
      ]
     },
     "execution_count": 10,
     "metadata": {},
     "output_type": "execute_result"
    }
   ],
   "source": [
    "list1 = [1,2]\n",
    "\n",
    "hex(id(list1))\n",
    "\n"
   ]
  },
  {
   "cell_type": "code",
   "execution_count": 11,
   "id": "9462532b",
   "metadata": {},
   "outputs": [
    {
     "data": {
      "text/plain": [
       "'0x10cb1a580'"
      ]
     },
     "execution_count": 11,
     "metadata": {},
     "output_type": "execute_result"
    }
   ],
   "source": [
    "list1.append(3)\n",
    "\n",
    "hex(id(list1))"
   ]
  },
  {
   "cell_type": "markdown",
   "id": "f8400a7f",
   "metadata": {},
   "source": [
    "// Tuples"
   ]
  },
  {
   "cell_type": "code",
   "execution_count": 14,
   "id": "3d54e7b5",
   "metadata": {},
   "outputs": [
    {
     "name": "stdout",
     "output_type": "stream",
     "text": [
      "('bio', 'name', 'id')\n"
     ]
    },
    {
     "data": {
      "text/plain": [
       "'0x10cae6080'"
      ]
     },
     "execution_count": 14,
     "metadata": {},
     "output_type": "execute_result"
    }
   ],
   "source": [
    "tup1 = (\"bio\", \"name\", \"id\")\n",
    "\n",
    "#tup1[0] = \"hello\"\n",
    "\n",
    "\n",
    "print(tup1)\n",
    "\n",
    "hex(id(tup1))"
   ]
  },
  {
   "cell_type": "code",
   "execution_count": 15,
   "id": "5bf99726",
   "metadata": {},
   "outputs": [
    {
     "name": "stdout",
     "output_type": "stream",
     "text": [
      "['bio', 'name', 'id']\n",
      "<class 'list'>\n"
     ]
    },
    {
     "data": {
      "text/plain": [
       "'0x10cb5cb40'"
      ]
     },
     "execution_count": 15,
     "metadata": {},
     "output_type": "execute_result"
    }
   ],
   "source": [
    "b = list(tup1)\n",
    "print(b)\n",
    "print(type(b))\n",
    "hex(id(b))"
   ]
  },
  {
   "cell_type": "code",
   "execution_count": 17,
   "id": "13a9b613",
   "metadata": {},
   "outputs": [
    {
     "name": "stdout",
     "output_type": "stream",
     "text": [
      "{1, 2, 3, 4, 5}\n",
      "{1, 2, 3, 4, 5, 'hi'}\n"
     ]
    }
   ],
   "source": [
    "set1 = {2,3,5,4,1}\n",
    "print(set1)\n",
    "\n",
    "set1.add('hi')\n",
    "print(set1)"
   ]
  },
  {
   "cell_type": "markdown",
   "id": "d0522615",
   "metadata": {},
   "source": [
    "More function of list and set\n"
   ]
  },
  {
   "cell_type": "code",
   "execution_count": 18,
   "id": "a234b835",
   "metadata": {},
   "outputs": [
    {
     "name": "stdout",
     "output_type": "stream",
     "text": [
      "[0, 1, 2, 3, 33, 232, 3232332, 'add']\n"
     ]
    }
   ],
   "source": [
    "# This code will remove dublicate from list using set \n",
    "\n",
    "a = [1,2,3,3232332,33,33,3,33,232,1,1,0,\"add\"]\n",
    "\n",
    "# method 1 \n",
    "\n",
    "a = set(a)\n",
    "a = list(a)\n",
    "\n",
    "print(a)"
   ]
  },
  {
   "cell_type": "code",
   "execution_count": 19,
   "id": "d0141589",
   "metadata": {},
   "outputs": [
    {
     "name": "stdout",
     "output_type": "stream",
     "text": [
      "[0, 1, 2, 3, 33, 232, 3232332, 'add']\n"
     ]
    }
   ],
   "source": [
    "a = [1,2,3,3232332,33,33,3,33,232,1,1,0,\"add\"]\n",
    "\n",
    "# method 2 \n",
    "\n",
    "a = list(set(a))\n",
    "\n",
    "print(a)"
   ]
  },
  {
   "cell_type": "code",
   "execution_count": 20,
   "id": "7211b3b8",
   "metadata": {},
   "outputs": [
    {
     "name": "stdout",
     "output_type": "stream",
     "text": [
      "4508208192\n",
      "[1, 2, 3, 'hello', 'hi']\n",
      "4508433280\n"
     ]
    }
   ],
   "source": [
    "# extend (list)\n",
    "\n",
    "a = [1,2,3]\n",
    "print(id(a))\n",
    "\n",
    "b = [\"hello\" , 'hi']\n",
    "\n",
    "a = a + b\n",
    "\n",
    "print(a)\n",
    "print(id(a))"
   ]
  },
  {
   "cell_type": "code",
   "execution_count": 21,
   "id": "2c0beeaa",
   "metadata": {},
   "outputs": [
    {
     "name": "stdout",
     "output_type": "stream",
     "text": [
      "4434315456\n",
      "[1, 2, 3, 'hello', 'hi']\n",
      "4434315456\n"
     ]
    }
   ],
   "source": [
    "a = [1,2,3]\n",
    "print(id(a))\n",
    "b = [\"hello\" , 'hi']\n",
    "\n",
    "a.extend(b)\n",
    "\n",
    "print(a)\n",
    "print(id(a))"
   ]
  },
  {
   "cell_type": "code",
   "execution_count": 23,
   "id": "bbea150e",
   "metadata": {},
   "outputs": [
    {
     "name": "stdout",
     "output_type": "stream",
     "text": [
      "4507731328\n",
      "{1, 2, 3, 'hello', 'hi'}\n",
      "4507731328\n"
     ]
    }
   ],
   "source": [
    "# update for set \n",
    "\n",
    "a = {1,2,3}\n",
    "print(id(a))\n",
    "b = {\"hello\" , 'hi'}\n",
    "\n",
    "a.update(b)\n",
    "\n",
    "print(a)\n",
    "print(id(a))"
   ]
  },
  {
   "cell_type": "code",
   "execution_count": 2,
   "id": "e2a4a1f4",
   "metadata": {},
   "outputs": [],
   "source": [
    "# Task is to store employee details \n",
    "\n",
    "# lets store employee details using their id\n",
    "\n",
    "emp_details = {\n",
    "    \"001\" : [\"monal\", \"india\"],\n",
    "    \"002\" : [\"lucas\", \"brazil\"],\n",
    "    \"003\" : [\"ashar\", \"Saudi Arabia\", 2],\n",
    "    \"001\" : [\"riyan\",\"india\"]\n",
    "}"
   ]
  },
  {
   "cell_type": "code",
   "execution_count": 26,
   "id": "8468b60b",
   "metadata": {},
   "outputs": [
    {
     "data": {
      "text/plain": [
       "['riyan', 'india']"
      ]
     },
     "execution_count": 26,
     "metadata": {},
     "output_type": "execute_result"
    }
   ],
   "source": [
    "emp_details[\"001\"]"
   ]
  },
  {
   "cell_type": "code",
   "execution_count": 27,
   "id": "6cd92e5d",
   "metadata": {},
   "outputs": [
    {
     "name": "stdout",
     "output_type": "stream",
     "text": [
      "{'001': ['riyan', 'india'], '002': ['lucas', 'brazil'], '003': ['ashar', 'Saudi Arabia', 2]}\n"
     ]
    }
   ],
   "source": [
    "print(emp_details)"
   ]
  },
  {
   "cell_type": "code",
   "execution_count": 29,
   "id": "7bf2dd01",
   "metadata": {},
   "outputs": [
    {
     "data": {
      "text/plain": [
       "'lucas'"
      ]
     },
     "execution_count": 29,
     "metadata": {},
     "output_type": "execute_result"
    }
   ],
   "source": [
    "emp_details[\"002\"][0]"
   ]
  },
  {
   "cell_type": "code",
   "execution_count": 30,
   "id": "c1c1448d",
   "metadata": {},
   "outputs": [],
   "source": [
    "emp_details[\"002\"][0] = \"LUCAS\""
   ]
  },
  {
   "cell_type": "code",
   "execution_count": 31,
   "id": "1d10a4f4",
   "metadata": {},
   "outputs": [
    {
     "name": "stdout",
     "output_type": "stream",
     "text": [
      "{'001': ['riyan', 'india'], '002': ['LUCAS', 'brazil'], '003': ['ashar', 'Saudi Arabia', 2]}\n"
     ]
    }
   ],
   "source": [
    "print(emp_details)"
   ]
  },
  {
   "cell_type": "code",
   "execution_count": 33,
   "id": "c5f306c7",
   "metadata": {},
   "outputs": [],
   "source": [
    "course_details = {\n",
    "                \"001\" : {\n",
    "                    \"name\" : \"monal\",\n",
    "                    \"ph.no\": 21324234,\n",
    "                    \"address\": \"india\",\n",
    "                    \"mentor_details\":{\n",
    "                        \"beginner_courses\" : [\"Data Science and Gen AI\"],\n",
    "                        \"advance_course\" : [\"Computer Vision\"]\n",
    "                    }\n",
    "                },\n",
    "                \"002\" : {\n",
    "                    \"name\" : \"krish\",\n",
    "                    \"ph.no\": 538748723,\n",
    "                    \"address\": \"usa\",\n",
    "                    \"mentor_details\":{\n",
    "                        \"beginner_courses\" : [\"Python\"],\n",
    "                        \"advance_course\" : [\"Computer Vision\"]\n",
    "                    }\n",
    "                }\n",
    "}"
   ]
  },
  {
   "cell_type": "code",
   "execution_count": 34,
   "id": "7d9ea274",
   "metadata": {},
   "outputs": [
    {
     "data": {
      "text/plain": [
       "{'name': 'monal',\n",
       " 'ph.no': 21324234,\n",
       " 'address': 'india',\n",
       " 'mentor_details': {'beginner_courses': ['Data Science and Gen AI'],\n",
       "  'advance_course': ['Computer Vision']}}"
      ]
     },
     "execution_count": 34,
     "metadata": {},
     "output_type": "execute_result"
    }
   ],
   "source": [
    "course_details['001']"
   ]
  },
  {
   "cell_type": "code",
   "execution_count": 35,
   "id": "727b09f2",
   "metadata": {},
   "outputs": [
    {
     "data": {
      "text/plain": [
       "['Computer Vision']"
      ]
     },
     "execution_count": 35,
     "metadata": {},
     "output_type": "execute_result"
    }
   ],
   "source": [
    "course_details['001']['mentor_details']['advance_course']"
   ]
  },
  {
   "cell_type": "code",
   "execution_count": 36,
   "id": "f1db5202",
   "metadata": {},
   "outputs": [
    {
     "name": "stdout",
     "output_type": "stream",
     "text": [
      "{'001': {'name': 'monal', 'ph.no': 21324234, 'address': 'india', 'mentor_details': {'beginner_courses': ['Data Science and Gen AI'], 'advance_course': ['Computer Vision']}}, '002': {'name': 'krish', 'ph.no': 538748723, 'address': 'usa', 'mentor_details': {'beginner_courses': ['Python'], 'advance_course': ['Computer Vision']}}}\n"
     ]
    }
   ],
   "source": [
    "print(course_details)"
   ]
  },
  {
   "cell_type": "code",
   "execution_count": 39,
   "id": "728c88de",
   "metadata": {},
   "outputs": [],
   "source": [
    "course_details[\"003\"] = [1,2,3]"
   ]
  },
  {
   "cell_type": "code",
   "execution_count": 40,
   "id": "a07d6708",
   "metadata": {},
   "outputs": [
    {
     "name": "stdout",
     "output_type": "stream",
     "text": [
      "{'001': {'name': 'monal', 'ph.no': 21324234, 'address': 'india', 'mentor_details': {'beginner_courses': ['Data Science and Gen AI'], 'advance_course': ['Computer Vision']}}, '002': {'name': 'krish', 'ph.no': 538748723, 'address': 'usa', 'mentor_details': {'beginner_courses': ['Python'], 'advance_course': ['Computer Vision']}}, '003': [1, 2, 3]}\n"
     ]
    }
   ],
   "source": [
    "print(course_details)"
   ]
  },
  {
   "cell_type": "code",
   "execution_count": 41,
   "id": "58abfa60",
   "metadata": {},
   "outputs": [
    {
     "data": {
      "text/plain": [
       "dict_keys(['001', '002', '003'])"
      ]
     },
     "execution_count": 41,
     "metadata": {},
     "output_type": "execute_result"
    }
   ],
   "source": [
    "course_details.keys()"
   ]
  },
  {
   "cell_type": "code",
   "execution_count": 42,
   "id": "c750a1a7",
   "metadata": {},
   "outputs": [
    {
     "data": {
      "text/plain": [
       "dict_values([{'name': 'monal', 'ph.no': 21324234, 'address': 'india', 'mentor_details': {'beginner_courses': ['Data Science and Gen AI'], 'advance_course': ['Computer Vision']}}, {'name': 'krish', 'ph.no': 538748723, 'address': 'usa', 'mentor_details': {'beginner_courses': ['Python'], 'advance_course': ['Computer Vision']}}, [1, 2, 3]])"
      ]
     },
     "execution_count": 42,
     "metadata": {},
     "output_type": "execute_result"
    }
   ],
   "source": [
    "course_details.values()"
   ]
  },
  {
   "cell_type": "code",
   "execution_count": 44,
   "id": "70b223b2",
   "metadata": {},
   "outputs": [
    {
     "data": {
      "text/plain": [
       "dict_keys"
      ]
     },
     "execution_count": 44,
     "metadata": {},
     "output_type": "execute_result"
    }
   ],
   "source": [
    "type(course_details.keys())"
   ]
  },
  {
   "cell_type": "code",
   "execution_count": 45,
   "id": "c24d5f34",
   "metadata": {},
   "outputs": [
    {
     "data": {
      "text/plain": [
       "dict_values([['riyan', 'india'], ['LUCAS', 'brazil'], ['ashar', 'Saudi Arabia', 2]])"
      ]
     },
     "execution_count": 45,
     "metadata": {},
     "output_type": "execute_result"
    }
   ],
   "source": [
    "emp_details.values()\n"
   ]
  },
  {
   "cell_type": "markdown",
   "id": "fc0aa279",
   "metadata": {},
   "source": [
    "# Loops"
   ]
  },
  {
   "cell_type": "code",
   "execution_count": 46,
   "id": "ed498468",
   "metadata": {},
   "outputs": [
    {
     "name": "stdout",
     "output_type": "stream",
     "text": [
      "2\n",
      "4\n",
      "6\n",
      "8\n",
      "10\n",
      "12\n",
      "14\n",
      "16\n",
      "18\n",
      "20\n"
     ]
    }
   ],
   "source": [
    "for i in range(1,11):\n",
    "    print(2 *i )"
   ]
  },
  {
   "cell_type": "code",
   "execution_count": 49,
   "id": "d0eb6804",
   "metadata": {},
   "outputs": [],
   "source": [
    "fruits = [\"apples\",\"oranges\",\"grapes\"]\n",
    "iterable = iter(fruits)"
   ]
  },
  {
   "cell_type": "code",
   "execution_count": 50,
   "id": "23cc956f",
   "metadata": {},
   "outputs": [
    {
     "name": "stdout",
     "output_type": "stream",
     "text": [
      "apples\n"
     ]
    }
   ],
   "source": [
    "print(next(iterable))"
   ]
  },
  {
   "cell_type": "code",
   "execution_count": 51,
   "id": "f3254551",
   "metadata": {},
   "outputs": [
    {
     "name": "stdout",
     "output_type": "stream",
     "text": [
      "apples\n",
      "oranges\n",
      "grapes\n"
     ]
    }
   ],
   "source": [
    "for fruit in fruits:\n",
    "    print(fruit)"
   ]
  },
  {
   "cell_type": "code",
   "execution_count": 52,
   "id": "0b512f6f",
   "metadata": {},
   "outputs": [
    {
     "name": "stdout",
     "output_type": "stream",
     "text": [
      "Traversing Started ...\n",
      "apples\n",
      "oranges\n",
      "grapes\n",
      "Traversing End\n"
     ]
    }
   ],
   "source": [
    "print('Traversing Started ...')\n",
    "\n",
    "for i in fruits:\n",
    "    print(i)\n",
    "\n",
    "print('Traversing End')"
   ]
  },
  {
   "cell_type": "code",
   "execution_count": 58,
   "id": "da17d37e",
   "metadata": {},
   "outputs": [
    {
     "name": "stdout",
     "output_type": "stream",
     "text": [
      "1\n",
      "3\n",
      "5\n",
      "7\n",
      "9\n"
     ]
    }
   ],
   "source": [
    "for i in range(1,11,2):\n",
    "    print(i)"
   ]
  },
  {
   "cell_type": "code",
   "execution_count": 1,
   "id": "35b3ac5a",
   "metadata": {},
   "outputs": [
    {
     "name": "stdout",
     "output_type": "stream",
     "text": [
      "10\n",
      "8\n",
      "6\n",
      "4\n",
      "2\n"
     ]
    }
   ],
   "source": [
    "for i in range (10 , 0, -2) :\n",
    "    print(i)"
   ]
  },
  {
   "cell_type": "code",
   "execution_count": 3,
   "id": "29433dad",
   "metadata": {},
   "outputs": [
    {
     "name": "stdout",
     "output_type": "stream",
     "text": [
      "001\n",
      "002\n",
      "003\n"
     ]
    }
   ],
   "source": [
    "for value in emp_details.keys():\n",
    "    print(value)"
   ]
  },
  {
   "cell_type": "code",
   "execution_count": 4,
   "id": "d2d19b88",
   "metadata": {},
   "outputs": [
    {
     "name": "stdout",
     "output_type": "stream",
     "text": [
      "['riyan', 'india']\n",
      "['lucas', 'brazil']\n",
      "['ashar', 'Saudi Arabia', 2]\n"
     ]
    }
   ],
   "source": [
    "for value in emp_details.keys():\n",
    "    print(emp_details[value])"
   ]
  },
  {
   "cell_type": "markdown",
   "id": "b1b0b52d",
   "metadata": {},
   "source": [
    "'''\n",
    "*\n",
    "**\n",
    "***\n",
    "****\n"
   ]
  },
  {
   "cell_type": "code",
   "execution_count": null,
   "id": "47d28223",
   "metadata": {},
   "outputs": [],
   "source": [
    "'''\n",
    "*\n",
    "**\n",
    "***\n",
    "****\n",
    "'''"
   ]
  },
  {
   "cell_type": "code",
   "execution_count": 11,
   "id": "92e8b15a",
   "metadata": {},
   "outputs": [
    {
     "name": "stdout",
     "output_type": "stream",
     "text": [
      "*\n",
      "**\n",
      "***\n",
      "****\n",
      "*****\n"
     ]
    }
   ],
   "source": [
    "for i in range(1,6):\n",
    "    print('*'*i)"
   ]
  },
  {
   "cell_type": "code",
   "execution_count": 12,
   "id": "e4a7fa1a",
   "metadata": {},
   "outputs": [
    {
     "name": "stdout",
     "output_type": "stream",
     "text": [
      "*\n",
      "***\n",
      "*****\n"
     ]
    }
   ],
   "source": [
    "for i in range(1,6,2):\n",
    "    print(\"*\"*i)"
   ]
  },
  {
   "cell_type": "code",
   "execution_count": 22,
   "id": "e145540f",
   "metadata": {},
   "outputs": [
    {
     "name": "stdout",
     "output_type": "stream",
     "text": [
      "--*\n",
      "-**\n",
      "***\n"
     ]
    }
   ],
   "source": [
    "max = 3\n",
    "for i in range(2,-1,-1):\n",
    "    print('-'*i,end=\"\")\n",
    "    print((max - i)*'*') "
   ]
  },
  {
   "cell_type": "code",
   "execution_count": 23,
   "id": "7ef74eb5",
   "metadata": {},
   "outputs": [
    {
     "name": "stdout",
     "output_type": "stream",
     "text": [
      "Student ID :  1\n",
      "Student ID :  2\n",
      "Student ID :  3\n",
      "Student ID :  4\n",
      "Student ID :  5\n",
      "Student ID :  7\n",
      "Student ID :  8\n",
      "Student ID :  9\n",
      "Student ID :  10\n"
     ]
    }
   ],
   "source": [
    "# problem statement \n",
    "# there is a defaulter which we don't want to include for the attendance.\n",
    "\n",
    "student_id = 6 \n",
    "\n",
    "for i in range(1,11):\n",
    "    if i == student_id:\n",
    "        continue\n",
    "    print(\"Student ID : \", i)"
   ]
  },
  {
   "cell_type": "code",
   "execution_count": 24,
   "id": "edc70509",
   "metadata": {},
   "outputs": [
    {
     "name": "stdout",
     "output_type": "stream",
     "text": [
      "2\n",
      "3\n",
      "6\n",
      "7\n",
      "8\n",
      "10\n"
     ]
    }
   ],
   "source": [
    "student_id = [1,4,5,9]\n",
    "\n",
    "for i in range(1,11):\n",
    "    if i in student_id:\n",
    "        continue\n",
    "    print(i)"
   ]
  },
  {
   "cell_type": "code",
   "execution_count": 25,
   "id": "5a4d9655",
   "metadata": {},
   "outputs": [
    {
     "data": {
      "text/plain": [
       "dict_keys([1, 2, 3, 4, 5, 6, 7, 8, 9, 10])"
      ]
     },
     "execution_count": 25,
     "metadata": {},
     "output_type": "execute_result"
    }
   ],
   "source": [
    "# Assignment \n",
    "# { 1 : \"Menu\" . .. . ... 10: \"name\"} - student data \n",
    "# list of defaulter [ ]\n",
    "# output [list of name consider for attendance]\n",
    "\n",
    "student_data = { 1 : 'Monal',\n",
    "                 2 : \"Anu\",\n",
    "                 3: \"anji\",\n",
    "                 4: \"pramod\",\n",
    "                 5: \"anshu\",\n",
    "                 6: \"nityansh\",\n",
    "                 7: \"ankit\",\n",
    "                 8: \"nikita\",\n",
    "                 9: \"ansh\",\n",
    "                 10: \"gonu\"}\n",
    "\n",
    "student_data.keys()\n",
    "\n"
   ]
  },
  {
   "cell_type": "code",
   "execution_count": 29,
   "id": "8545c161",
   "metadata": {},
   "outputs": [
    {
     "name": "stdout",
     "output_type": "stream",
     "text": [
      "Sutdent consider for attendance : Monal\n",
      "Sutdent consider for attendance : Anu\n",
      "Sutdent consider for attendance : pramod\n",
      "Sutdent consider for attendance : anshu\n",
      "Sutdent consider for attendance : ankit\n",
      "Sutdent consider for attendance : nikita\n",
      "Sutdent consider for attendance : gonu\n"
     ]
    }
   ],
   "source": [
    "student_defaulter_id = [3,6,9]\n",
    "\n",
    "for i in range(1,11):\n",
    "    if i in student_defaulter_id:\n",
    "        continue\n",
    "    print(\"Sutdent consider for attendance :\", student_data[i])"
   ]
  },
  {
   "cell_type": "code",
   "execution_count": 5,
   "id": "c667ed1e",
   "metadata": {},
   "outputs": [
    {
     "name": "stdout",
     "output_type": "stream",
     "text": [
      "---*\n",
      "--***\n",
      "-*****\n",
      "*******\n"
     ]
    }
   ],
   "source": [
    "#row = 1 start = 1   space = 3\n",
    "#row = 2 star = 3   space = 2\n",
    "#row = 3 star = 5   space = 1 \n",
    "# row = 4 star = 7.  space =0 \n",
    "\n",
    "star=1\n",
    "for space in range(3,-1,-1):\n",
    "    print('-'* space, end=\"\")\n",
    "    print('*'*star)\n",
    "    star +=2\n"
   ]
  },
  {
   "cell_type": "code",
   "execution_count": 51,
   "id": "590422d1",
   "metadata": {},
   "outputs": [
    {
     "name": "stdout",
     "output_type": "stream",
     "text": [
      "0\n",
      "1\n",
      "2\n",
      "3\n",
      "4\n",
      "5\n",
      "6\n",
      "7\n",
      "8\n"
     ]
    }
   ],
   "source": [
    "# while loop\n",
    "# print everything till 9, given values 0 -100 \n",
    "\n",
    "i = 0\n",
    "\n",
    "while i <= 8:\n",
    "    print(i)\n",
    "\n",
    "    i+=1"
   ]
  },
  {
   "cell_type": "code",
   "execution_count": null,
   "id": "35523aea",
   "metadata": {},
   "outputs": [],
   "source": []
  }
 ],
 "metadata": {
  "kernelspec": {
   "display_name": "Python 3",
   "language": "python",
   "name": "python3"
  },
  "language_info": {
   "codemirror_mode": {
    "name": "ipython",
    "version": 3
   },
   "file_extension": ".py",
   "mimetype": "text/x-python",
   "name": "python",
   "nbconvert_exporter": "python",
   "pygments_lexer": "ipython3",
   "version": "3.12.9"
  }
 },
 "nbformat": 4,
 "nbformat_minor": 5
}
